{
 "cells": [
  {
   "cell_type": "code",
   "execution_count": 20,
   "id": "4b06ccc1",
   "metadata": {},
   "outputs": [
    {
     "name": "stdout",
     "output_type": "stream",
     "text": [
      "[0, 3, 5, 7, 8, 11, 12, 22, 31, 45, 51, 56, 63, 77, 89, 90]\n"
     ]
    }
   ],
   "source": [
    "# 1.\tWrite a Python program to Extract Unique values dictionary values?\n",
    "\n",
    "my_dict = {'hi' : [5,3,8, 0],\n",
    "   'there' : [22, 51, 63, 77],\n",
    "   'how' : [7, 0, 22],\n",
    "   'are' : [12, 11, 45],\n",
    "   'you' : [56, 31, 89, 90]}\n",
    "# print(\"orignal dictonary value is \"+str(my_dict))\n",
    "res = sorted({ele for val in my_dict.values() for ele in val})\n",
    "# a = [23,45,45,46,4,45,5,4]\n",
    "# a.sort()\n",
    "print(res)\n",
    "# res ="
   ]
  },
  {
   "cell_type": "code",
   "execution_count": 52,
   "id": "8fe2fd41",
   "metadata": {},
   "outputs": [
    {
     "name": "stdout",
     "output_type": "stream",
     "text": [
      "[0, 1, 2, 3, 3, 5, 6, 7]\n",
      "sum of dictronary element is  27\n"
     ]
    }
   ],
   "source": [
    "# 2.\tWrite a Python program to find the sum of all items in a dictionary?\n",
    "my_dict1 = {'hi' : [5,3,3, 0],\n",
    "   'there' : [2, 1, 6, 7]\n",
    "   }\n",
    "values = list(sorted(ele for val in my_dict1.values() for ele in val))\n",
    "\n",
    "print(values)\n",
    "tmp = 0\n",
    "for valu in values:\n",
    "#     print(valu)\n",
    "    tmp = tmp + valu\n",
    "\n",
    "\n",
    "print(\"sum of dictronary element is \",tmp )\n",
    "\n",
    "\n",
    " \n",
    " \n"
   ]
  },
  {
   "cell_type": "code",
   "execution_count": 54,
   "id": "7954a67a",
   "metadata": {},
   "outputs": [
    {
     "name": "stdout",
     "output_type": "stream",
     "text": [
      "{'how': [7, 0, 22], 'are': [12, 11, 45], 'you': [56, 31, 89, 90], 1: 'a', 2: 'b'}\n"
     ]
    }
   ],
   "source": [
    "# 3.\tWrite a Python program to Merging two Dictionaries?\n",
    "dict_1 = {1: 'a', 2: 'b'}\n",
    "dict_2 = {'how' : [7, 0, 22],\n",
    "   'are' : [12, 11, 45],\n",
    "   'you' : [56, 31, 89, 90]}\n",
    "\n",
    "dict_2.update(dict_1)\n",
    "print(dict_2)"
   ]
  },
  {
   "cell_type": "code",
   "execution_count": 5,
   "id": "f089d288",
   "metadata": {},
   "outputs": [
    {
     "name": "stdout",
     "output_type": "stream",
     "text": [
      "Orignial dictonary is = {'month_num': [1, 2, 3, 4, 5, 6], 'name_of_month': ['Jan', 'Feb', 'March', 'Apr', 'May', 'June']}\n",
      "{1: 'Jan', 2: 'Feb', 3: 'March', 4: 'Apr', 5: 'May', 6: 'June'}\n"
     ]
    }
   ],
   "source": [
    "# 4.\tWrite a Python program to convert key-values list to flat dictionary?\n",
    "my_dict = {'month_num' : [1, 2, 3, 4, 5, 6], \n",
    "           'name_of_month' : ['Jan', 'Feb', 'March', 'Apr', 'May', 'June']\n",
    "          }\n",
    "print(\"Orignial dictonary is =\",my_dict)\n",
    "res =dict(zip(my_dict['month_num'],my_dict['name_of_month']))\n",
    "print(res)"
   ]
  },
  {
   "cell_type": "code",
   "execution_count": 22,
   "id": "835eb7b7",
   "metadata": {},
   "outputs": [
    {
     "name": "stdout",
     "output_type": "stream",
     "text": [
      "Orignial dictonary is = OrderedDict([('Will', '1'), ('James', '2'), ('Rob', '4')])\n",
      "new dictonary is- OrderedDict([('manjeet', '3'), ('Will', '1'), ('James', '2'), ('Rob', '4')])\n"
     ]
    }
   ],
   "source": [
    "# 5.\tWrite a Python program to insertion at the beginning in OrderedDict?\n",
    "from collections import OrderedDict\n",
    "# my_dict = {'month_num' : [1, 2, 3, 4, 5, 6], \n",
    "#            'name_of_month' : ['Jan', 'Feb', 'March', 'Apr', 'May', 'June']\n",
    "#           }\n",
    "my_ordered_dict = OrderedDict([('Will', '1'), ('James', '2'), ('Rob', '4')])\n",
    "\n",
    "print(\"Orignial dictonary is =\",my_ordered_dict)\n",
    "new_dict = my_ordered_dict.update({'manjeet':'3'})\n",
    "my_ordered_dict.move_to_end('manjeet', last =False)\n",
    "print(\"new dictonary is-\",my_ordered_dict)"
   ]
  },
  {
   "cell_type": "code",
   "execution_count": 42,
   "id": "4021008d",
   "metadata": {},
   "outputs": [
    {
     "name": "stdout",
     "output_type": "stream",
     "text": [
      "OrderedDict([('w', None), ('e', None), ('l', None), ('c', None), ('o', None), ('m', None)])\n"
     ]
    },
    {
     "data": {
      "text/plain": [
       "'True'"
      ]
     },
     "execution_count": 42,
     "metadata": {},
     "output_type": "execute_result"
    }
   ],
   "source": [
    "# 6.\tWrite a Python program to check order of character in string using OrderedDict()?\n",
    "from collections import OrderedDict \n",
    "def checkOrder(string, pattern): \n",
    "    dic = OrderedDict.fromkeys(string) \n",
    "    print(dic)\n",
    "    ptr = 0\n",
    "    for key,value in dic.items(): \n",
    "        if (key == pattern[ptr]): \n",
    "            ptr = ptr + 1\n",
    "        if (ptr == (len(pattern))): \n",
    "            return 'True'\n",
    "    return 'False'\n",
    "checkOrder(\"welcome\", 'wel')"
   ]
  },
  {
   "cell_type": "code",
   "execution_count": 32,
   "id": "056e68ce",
   "metadata": {},
   "outputs": [
    {
     "name": "stdout",
     "output_type": "stream",
     "text": [
      "values are -  [0, 0, 3, 5, 7, 8, 11, 12, 22, 22, 31, 45, 51, 56, 63, 77, 89, 90]\n",
      "keys are -  ['are', 'hi', 'how', 'there', 'you']\n"
     ]
    }
   ],
   "source": [
    "# 7.\tWrite a Python program to sort Python Dictionaries by Key or Value? \n",
    "my_dict = {'hi' : [5,3,8, 0],\n",
    "   'there' : [22, 51, 63, 77],\n",
    "   'how' : [7, 0, 22],\n",
    "   'are' : [12, 11, 45],\n",
    "   'you' : [56, 31, 89, 90]}\n",
    "# print(\"orignal dictonary value is \"+str(my_dict))\n",
    "res = sorted(ele for val in my_dict.values() for ele in val)\n",
    "key = sorted(my_dict.keys())\n",
    "\n",
    "print(\"values are - \",res)\n",
    "print(\"keys are - \",key)\n",
    "\n"
   ]
  },
  {
   "cell_type": "code",
   "execution_count": null,
   "id": "c70c8354",
   "metadata": {},
   "outputs": [],
   "source": []
  }
 ],
 "metadata": {
  "kernelspec": {
   "display_name": "Python 3 (ipykernel)",
   "language": "python",
   "name": "python3"
  },
  "language_info": {
   "codemirror_mode": {
    "name": "ipython",
    "version": 3
   },
   "file_extension": ".py",
   "mimetype": "text/x-python",
   "name": "python",
   "nbconvert_exporter": "python",
   "pygments_lexer": "ipython3",
   "version": "3.10.4"
  }
 },
 "nbformat": 4,
 "nbformat_minor": 5
}
